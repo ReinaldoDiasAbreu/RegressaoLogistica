{
  "nbformat": 4,
  "nbformat_minor": 0,
  "metadata": {
    "colab": {
      "name": "RegressãoLogisticaExemplo.ipynb",
      "provenance": [],
      "collapsed_sections": [],
      "authorship_tag": "ABX9TyN3kuzcrUv2tLn7uUJ5ujqB",
      "include_colab_link": true
    },
    "kernelspec": {
      "name": "python3",
      "display_name": "Python 3"
    },
    "language_info": {
      "name": "python"
    }
  },
  "cells": [
    {
      "cell_type": "markdown",
      "metadata": {
        "id": "view-in-github",
        "colab_type": "text"
      },
      "source": [
        "<a href=\"https://colab.research.google.com/github/ReinaldoDiasAbreu/RegressaoLogistica/blob/main/Regress%C3%A3oLogisticaExemplo.ipynb\" target=\"_parent\"><img src=\"https://colab.research.google.com/assets/colab-badge.svg\" alt=\"Open In Colab\"/></a>"
      ]
    },
    {
      "cell_type": "markdown",
      "metadata": {
        "id": "L8RGqWP2KWUK"
      },
      "source": [
        "# Aplicação da Regressão Logística"
      ]
    },
    {
      "cell_type": "code",
      "metadata": {
        "id": "TkZmsE3UAE_d"
      },
      "source": [
        "import numpy as np  \n",
        "import pandas as pd  \n",
        "import matplotlib.pyplot as plt\n",
        "%matplotlib inline"
      ],
      "execution_count": 1,
      "outputs": []
    },
    {
      "cell_type": "markdown",
      "metadata": {
        "id": "-eJ_iau2H99s"
      },
      "source": [
        "## Base de dados"
      ]
    },
    {
      "cell_type": "code",
      "metadata": {
        "colab": {
          "base_uri": "https://localhost:8080/",
          "height": 204
        },
        "id": "0lx30dmRC02T",
        "outputId": "42370ae4-364a-48f1-9747-0bfc2283a579"
      },
      "source": [
        "df = pd.read_csv('admissao.csv')\n",
        "df.head()"
      ],
      "execution_count": 2,
      "outputs": [
        {
          "output_type": "execute_result",
          "data": {
            "text/html": [
              "<div>\n",
              "<style scoped>\n",
              "    .dataframe tbody tr th:only-of-type {\n",
              "        vertical-align: middle;\n",
              "    }\n",
              "\n",
              "    .dataframe tbody tr th {\n",
              "        vertical-align: top;\n",
              "    }\n",
              "\n",
              "    .dataframe thead th {\n",
              "        text-align: right;\n",
              "    }\n",
              "</style>\n",
              "<table border=\"1\" class=\"dataframe\">\n",
              "  <thead>\n",
              "    <tr style=\"text-align: right;\">\n",
              "      <th></th>\n",
              "      <th>Exame1</th>\n",
              "      <th>Exame2</th>\n",
              "      <th>Admitido</th>\n",
              "    </tr>\n",
              "  </thead>\n",
              "  <tbody>\n",
              "    <tr>\n",
              "      <th>0</th>\n",
              "      <td>34.623660</td>\n",
              "      <td>78.024693</td>\n",
              "      <td>0</td>\n",
              "    </tr>\n",
              "    <tr>\n",
              "      <th>1</th>\n",
              "      <td>30.286711</td>\n",
              "      <td>43.894998</td>\n",
              "      <td>0</td>\n",
              "    </tr>\n",
              "    <tr>\n",
              "      <th>2</th>\n",
              "      <td>35.847409</td>\n",
              "      <td>72.902198</td>\n",
              "      <td>0</td>\n",
              "    </tr>\n",
              "    <tr>\n",
              "      <th>3</th>\n",
              "      <td>60.182599</td>\n",
              "      <td>86.308552</td>\n",
              "      <td>1</td>\n",
              "    </tr>\n",
              "    <tr>\n",
              "      <th>4</th>\n",
              "      <td>79.032736</td>\n",
              "      <td>75.344376</td>\n",
              "      <td>1</td>\n",
              "    </tr>\n",
              "  </tbody>\n",
              "</table>\n",
              "</div>"
            ],
            "text/plain": [
              "      Exame1     Exame2  Admitido\n",
              "0  34.623660  78.024693         0\n",
              "1  30.286711  43.894998         0\n",
              "2  35.847409  72.902198         0\n",
              "3  60.182599  86.308552         1\n",
              "4  79.032736  75.344376         1"
            ]
          },
          "metadata": {
            "tags": []
          },
          "execution_count": 2
        }
      ]
    },
    {
      "cell_type": "markdown",
      "metadata": {
        "id": "uaJeT-20IBss"
      },
      "source": [
        "## Pré processamento dos dados"
      ]
    },
    {
      "cell_type": "markdown",
      "metadata": {
        "id": "kp-nQRHhJQk-"
      },
      "source": [
        "#### Separando os dados dos exames da variável adimitido\n"
      ]
    },
    {
      "cell_type": "code",
      "metadata": {
        "id": "2_zH0VXSH4WE"
      },
      "source": [
        "n_features = len(df.columns)-1 \n",
        "X = np.array(df.drop('Admitido',1))\n",
        "y = df.iloc[:,n_features:n_features+1].values  "
      ],
      "execution_count": 3,
      "outputs": []
    },
    {
      "cell_type": "code",
      "metadata": {
        "colab": {
          "base_uri": "https://localhost:8080/"
        },
        "id": "lF1ytoVYIK_-",
        "outputId": "cddb0c54-40a6-4610-91fa-c89e99ea966a"
      },
      "source": [
        "X[0:5,:]"
      ],
      "execution_count": 4,
      "outputs": [
        {
          "output_type": "execute_result",
          "data": {
            "text/plain": [
              "array([[34.62365962, 78.02469282],\n",
              "       [30.28671077, 43.89499752],\n",
              "       [35.84740877, 72.90219803],\n",
              "       [60.18259939, 86.3085521 ],\n",
              "       [79.03273605, 75.34437644]])"
            ]
          },
          "metadata": {
            "tags": []
          },
          "execution_count": 4
        }
      ]
    },
    {
      "cell_type": "code",
      "metadata": {
        "colab": {
          "base_uri": "https://localhost:8080/"
        },
        "id": "mVl_qVGNJKx2",
        "outputId": "1565d16e-91c2-4395-8dfb-c9edb51b83ca"
      },
      "source": [
        "y[0:5]"
      ],
      "execution_count": 5,
      "outputs": [
        {
          "output_type": "execute_result",
          "data": {
            "text/plain": [
              "array([[0],\n",
              "       [0],\n",
              "       [0],\n",
              "       [1],\n",
              "       [1]])"
            ]
          },
          "metadata": {
            "tags": []
          },
          "execution_count": 5
        }
      ]
    },
    {
      "cell_type": "code",
      "metadata": {
        "colab": {
          "base_uri": "https://localhost:8080/"
        },
        "id": "pPyhJO8PWN3Y",
        "outputId": "7bc028c8-3cbd-47e8-969e-cba745def3e6"
      },
      "source": [
        "# Capturando a média e o desvio padrão\n",
        "mean = X.mean(axis=0)\n",
        "std = X.std(axis=0)\n",
        "print(\"Média:\", mean, \"\\nDesvio Padrão:\", std)"
      ],
      "execution_count": 6,
      "outputs": [
        {
          "output_type": "stream",
          "text": [
            "Média: [65.64427406 66.22199809] \n",
            "Desvio Padrão: [19.36068671 18.48963567]\n"
          ],
          "name": "stdout"
        }
      ]
    },
    {
      "cell_type": "markdown",
      "metadata": {
        "id": "_TVvrbR9JTzG"
      },
      "source": [
        "#### Padronização\n",
        "\n",
        "Usamos o StandardScaler somente para pardonizar as features  tornando-as mais manejáveis para o modelo."
      ]
    },
    {
      "cell_type": "code",
      "metadata": {
        "colab": {
          "base_uri": "https://localhost:8080/"
        },
        "id": "WmZSs8riJaMt",
        "outputId": "dd8308a8-baee-46b2-cc0b-e90a0a910c51"
      },
      "source": [
        "from sklearn.preprocessing import StandardScaler\n",
        "scaler = StandardScaler()\n",
        "scaler.fit(X)\n",
        "X = scaler.transform(X)\n",
        "print(X[0:5,:])"
      ],
      "execution_count": 7,
      "outputs": [
        {
          "output_type": "stream",
          "text": [
            "[[-1.60224763  0.63834112]\n",
            " [-1.82625564 -1.2075414 ]\n",
            " [-1.53903969  0.3612943 ]\n",
            " [-0.28210129  1.0863683 ]\n",
            " [ 0.69152826  0.49337794]]\n"
          ],
          "name": "stdout"
        }
      ]
    },
    {
      "cell_type": "markdown",
      "metadata": {
        "id": "G-P0mt_ULCWQ"
      },
      "source": [
        "#### Função insert_ones para incluir uma coluna com valores 1 no inicio do vetor"
      ]
    },
    {
      "cell_type": "code",
      "metadata": {
        "id": "SPgBjmMkJec6"
      },
      "source": [
        "def insert_ones(X):\n",
        "    ones = np.ones([X.shape[0],1])\n",
        "    return np.concatenate((ones,X),axis=1)"
      ],
      "execution_count": 8,
      "outputs": []
    },
    {
      "cell_type": "markdown",
      "metadata": {
        "id": "TvGk0M_BLRmJ"
      },
      "source": [
        "#### Criando vetor W's de acordo com o número de features"
      ]
    },
    {
      "cell_type": "code",
      "metadata": {
        "colab": {
          "base_uri": "https://localhost:8080/"
        },
        "id": "e4pXaLaPLa2-",
        "outputId": "3cdf2074-e6fb-480d-ac5a-67424d5172d7"
      },
      "source": [
        "w = np.random.rand(1,n_features+1) ## valores entre 0 e 1\n",
        "w"
      ],
      "execution_count": 9,
      "outputs": [
        {
          "output_type": "execute_result",
          "data": {
            "text/plain": [
              "array([[0.1012261 , 0.73676535, 0.49549865]])"
            ]
          },
          "metadata": {
            "tags": []
          },
          "execution_count": 9
        }
      ]
    },
    {
      "cell_type": "markdown",
      "metadata": {
        "id": "3TRzXp1wLflt"
      },
      "source": [
        "### Definindo a Função Logística"
      ]
    },
    {
      "cell_type": "code",
      "metadata": {
        "id": "Jp1RL8d5Lezc"
      },
      "source": [
        "def sigmoid(z):\n",
        "    return 1 / ( 1 + np.exp(-z))"
      ],
      "execution_count": 10,
      "outputs": []
    },
    {
      "cell_type": "code",
      "metadata": {
        "colab": {
          "base_uri": "https://localhost:8080/",
          "height": 282
        },
        "id": "saXWA59tLoKf",
        "outputId": "acaaf19a-918b-4105-fa0b-6f265f9abecf"
      },
      "source": [
        "# EXEMPLIFICANDO GRÁFICO DA FUNÇÃO SIGMOID\n",
        "nums = np.arange(-10, 10, step=1)\n",
        "fig, ax = plt.subplots(figsize=(6,4))  \n",
        "ax.plot(nums, sigmoid(nums), 'r')"
      ],
      "execution_count": 11,
      "outputs": [
        {
          "output_type": "execute_result",
          "data": {
            "text/plain": [
              "[<matplotlib.lines.Line2D at 0x7fc9401ab290>]"
            ]
          },
          "metadata": {
            "tags": []
          },
          "execution_count": 11
        },
        {
          "output_type": "display_data",
          "data": {
            "image/png": "[encoded data removed]",
            "text/plain": [
              "<Figure size 432x288 with 1 Axes>"
            ]
          },
          "metadata": {
            "tags": [],
            "needs_background": "light"
          }
        }
      ]
    },
    {
      "cell_type": "markdown",
      "metadata": {
        "id": "96y2A_zZLxwv"
      },
      "source": [
        "### Binary Cross Entropy\n",
        "\n",
        "Essa é a função de custo aplicada a nossa função logística, ela realiza o somatórios dos erros de cada predição dividido pela quantidade de elementos do dataset.\n",
        "\n",
        "![image.png](data:image/png;base64,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)"
      ]
    },
    {
      "cell_type": "code",
      "metadata": {
        "id": "f8uIwzWlLyWo"
      },
      "source": [
        "def binary_cross_entropy(w, X, y):    \n",
        "    m = len(X)\n",
        "    parte1 = np.multiply(-y, np.log(sigmoid(X @ w.T)))\n",
        "    parte2 = np.multiply((1 - y), np.log(1 - sigmoid(X @ w.T)))\n",
        "    somatorio = np.sum(parte1 - parte2)\n",
        "    return  somatorio/m"
      ],
      "execution_count": 12,
      "outputs": []
    },
    {
      "cell_type": "markdown",
      "metadata": {
        "id": "PW4jc1LLONug"
      },
      "source": [
        "### Gradiente Descendente\n",
        "\n",
        "Usado para encontrar, de forma iterativa, os valores dos parâmetros que minimizam determinada função de interesse.\n",
        "\n",
        "A diferença é que para termos a regressão logistica estamos aplicando a nossa sigmoid a regressão.\n",
        "\n",
        "![image.png](data:image/png;base64,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)"
      ]
    },
    {
      "cell_type": "code",
      "metadata": {
        "id": "cP7I-OzgOevQ"
      },
      "source": [
        "def gradient_descent(w, X, y, alpha, epoch):\n",
        "    cost = np.zeros(epoch)\n",
        "    for i in range(epoch):\n",
        "        w = w - (alpha/len(X)) * np.sum((sigmoid(X @ w.T) - y)*X, axis=0)\n",
        "        cost[i] = binary_cross_entropy(w, X, y)\n",
        "    return w, cost"
      ],
      "execution_count": 13,
      "outputs": []
    },
    {
      "cell_type": "markdown",
      "metadata": {
        "id": "XQRDv9bTQNOR"
      },
      "source": [
        "## Inicializando o Modelo"
      ]
    },
    {
      "cell_type": "code",
      "metadata": {
        "colab": {
          "base_uri": "https://localhost:8080/"
        },
        "id": "tMbpTqy1ObxS",
        "outputId": "e9f01eaa-9e5d-4db0-ba0e-17bbb9922b8f"
      },
      "source": [
        "# Inclui uma coluna com valores 1\n",
        "X = insert_ones(X)\n",
        "print(X[0:6, :])"
      ],
      "execution_count": 14,
      "outputs": [
        {
          "output_type": "stream",
          "text": [
            "[[ 1.         -1.60224763  0.63834112]\n",
            " [ 1.         -1.82625564 -1.2075414 ]\n",
            " [ 1.         -1.53903969  0.3612943 ]\n",
            " [ 1.         -0.28210129  1.0863683 ]\n",
            " [ 1.          0.69152826  0.49337794]\n",
            " [ 1.         -1.06199728 -0.5357394 ]]\n"
          ],
          "name": "stdout"
        }
      ]
    },
    {
      "cell_type": "code",
      "metadata": {
        "id": "g-52S3sxQ-j3"
      },
      "source": [
        "# Definir a taxa de aprendizado e interações\n",
        "alpha = 0.01 # aprendizado\n",
        "epoch = 10000 # interação"
      ],
      "execution_count": 15,
      "outputs": []
    },
    {
      "cell_type": "code",
      "metadata": {
        "id": "JDcMfRDyRLZ3"
      },
      "source": [
        "# Treina o modelo\n",
        "w, cost = gradient_descent(w, X, y, alpha, epoch)"
      ],
      "execution_count": 16,
      "outputs": []
    },
    {
      "cell_type": "code",
      "metadata": {
        "colab": {
          "base_uri": "https://localhost:8080/",
          "height": 312
        },
        "id": "D2JXjEdURT-n",
        "outputId": "e28055e2-cde0-4caa-8c4a-4b66a3fbad74"
      },
      "source": [
        "# Custo Calculado\n",
        "fig, ax = plt.subplots()  \n",
        "ax.plot(np.arange(epoch), cost, 'r')  \n",
        "ax.set_xlabel('Iterações')  \n",
        "ax.set_ylabel('Custo')  \n",
        "ax.set_title('Erro vs. Iterações')"
      ],
      "execution_count": 17,
      "outputs": [
        {
          "output_type": "execute_result",
          "data": {
            "text/plain": [
              "Text(0.5, 1.0, 'Erro vs. Iterações')"
            ]
          },
          "metadata": {
            "tags": []
          },
          "execution_count": 17
        },
        {
          "output_type": "display_data",
          "data": {
            "image/png": "[encoded data removed]",
            "text/plain": [
              "<Figure size 432x288 with 1 Axes>"
            ]
          },
          "metadata": {
            "tags": [],
            "needs_background": "light"
          }
        }
      ]
    },
    {
      "cell_type": "code",
      "metadata": {
        "colab": {
          "base_uri": "https://localhost:8080/"
        },
        "id": "KcXl4de5Ry4S",
        "outputId": "6d3b2ed3-2618-4652-eaa7-46f4191b2739"
      },
      "source": [
        "# Valores de W calculados\n",
        "print(w)"
      ],
      "execution_count": 18,
      "outputs": [
        {
          "output_type": "stream",
          "text": [
            "[[1.27341705 3.05300911 2.81710405]]\n"
          ],
          "name": "stdout"
        }
      ]
    },
    {
      "cell_type": "markdown",
      "metadata": {
        "id": "AfJ0-YouSBaL"
      },
      "source": [
        "## Realizando Classificações"
      ]
    },
    {
      "cell_type": "code",
      "metadata": {
        "id": "FvvEe37gSEc1"
      },
      "source": [
        "# Aqui aplicamos nossa função de classificação sigmoid com os valores de w treinados\n",
        "# e verificamos sua classificação de acordo com o limiar definido (padrão: 50%) \n",
        "def predict(w, X, threshold=0.5):\n",
        "    p = sigmoid(X @ w.T) >= threshold\n",
        "    return (p.astype('int'))"
      ],
      "execution_count": 18,
      "outputs": []
    },
    {
      "cell_type": "code",
      "metadata": {
        "id": "xvr54wiYAbzK"
      },
      "source": [
        "def classifica(obj, w):\n",
        "  print(\"Probabilidade: \", sigmoid(obj @ w.T))\n",
        "  print(\"Predição: \", predict(w, obj))"
      ],
      "execution_count": 19,
      "outputs": []
    },
    {
      "cell_type": "markdown",
      "metadata": {
        "id": "o5-iAKAkTlcv"
      },
      "source": [
        "#### Testando Modelo"
      ]
    },
    {
      "cell_type": "code",
      "metadata": {
        "colab": {
          "base_uri": "https://localhost:8080/"
        },
        "id": "W8h_SpndTrIf",
        "outputId": "cf6caf4b-20ec-4794-b181-cb33f9c05f0f"
      },
      "source": [
        "# TESTANDO PARA PESSOA 1\n",
        "pessoa1 = np.array([[82, 60]])\n",
        "pessoa1 = (pessoa1 - mean)/std # Normalização\n",
        "pessoa1 = insert_ones(pessoa1)\n",
        "classifica(pessoa1, w)"
      ],
      "execution_count": 20,
      "outputs": [
        {
          "output_type": "stream",
          "text": [
            "Probabilidade:  [[0.94895444]]\n",
            "Predição:  [[1]]\n"
          ],
          "name": "stdout"
        }
      ]
    },
    {
      "cell_type": "code",
      "metadata": {
        "colab": {
          "base_uri": "https://localhost:8080/"
        },
        "id": "qcieqVS-_ggb",
        "outputId": "52c4362d-f691-4ee8-8953-7fcda8548f71"
      },
      "source": [
        "# TESTANDO PARA PESSOA 2\n",
        "pessoa2 = np.array([[40, 60]])\n",
        "pessoa2 = (pessoa2 - mean)/std  # Normalização\n",
        "pessoa2 = insert_ones(pessoa2)\n",
        "classifica(pessoa2, w)"
      ],
      "execution_count": 21,
      "outputs": [
        {
          "output_type": "stream",
          "text": [
            "Probabilidade:  [[0.02321152]]\n",
            "Predição:  [[0]]\n"
          ],
          "name": "stdout"
        }
      ]
    },
    {
      "cell_type": "markdown",
      "metadata": {
        "id": "jN_SAsSXlDBa"
      },
      "source": [
        "#### Observações sobre o cálculo"
      ]
    },
    {
      "cell_type": "markdown",
      "metadata": {
        "id": "7ZFFQzTOlIhH"
      },
      "source": [
        "Tudo é baseado na definição da regresão linear. No caso abaixo a regressão linear múltipla que trata de mais de uma variável independente.\n",
        "\n",
        "![image.png](data:image/png;base64,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)"
      ]
    },
    {
      "cell_type": "code",
      "metadata": {
        "colab": {
          "base_uri": "https://localhost:8080/"
        },
        "id": "Zfi_YgulkXcV",
        "outputId": "25960520-a5ed-4e53-83e4-23201df751e6"
      },
      "source": [
        "# Transposta dos coeficientes\n",
        "w.T"
      ],
      "execution_count": 22,
      "outputs": [
        {
          "output_type": "execute_result",
          "data": {
            "text/plain": [
              "array([[1.28206629],\n",
              "       [3.07109529],\n",
              "       [2.83453295]])"
            ]
          },
          "metadata": {
            "tags": []
          },
          "execution_count": 22
        }
      ]
    },
    {
      "cell_type": "code",
      "metadata": {
        "colab": {
          "base_uri": "https://localhost:8080/"
        },
        "id": "l2r0rnqHk8o7",
        "outputId": "b9b7cfff-ae3b-4894-bc4a-596956f75e5a"
      },
      "source": [
        "# Valores X1 e X2 da pessoa1 normalizados\n",
        "pessoa1"
      ],
      "execution_count": 23,
      "outputs": [
        {
          "output_type": "execute_result",
          "data": {
            "text/plain": [
              "array([[ 1.        ,  0.84479059, -0.33651275]])"
            ]
          },
          "metadata": {
            "tags": []
          },
          "execution_count": 23
        }
      ]
    },
    {
      "cell_type": "code",
      "metadata": {
        "colab": {
          "base_uri": "https://localhost:8080/"
        },
        "id": "tcLJtIWXk-wq",
        "outputId": "546ae95c-a29c-470f-f131-fc7ae545a8aa"
      },
      "source": [
        "# Realizo um produto escalar\n",
        "pessoa1 @ w.T"
      ],
      "execution_count": 24,
      "outputs": [
        {
          "output_type": "execute_result",
          "data": {
            "text/plain": [
              "array([[2.92264222]])"
            ]
          },
          "metadata": {
            "tags": []
          },
          "execution_count": 24
        }
      ]
    },
    {
      "cell_type": "code",
      "metadata": {
        "colab": {
          "base_uri": "https://localhost:8080/"
        },
        "id": "Z1PdDjetlmOi",
        "outputId": "c3bb7ef7-4034-49d5-c6f9-365424702b8c"
      },
      "source": [
        "# Aplico o valor estimado na sigmoid e assim temos nossa chance\n",
        "sigmoid(pessoa1 @ w.T)"
      ],
      "execution_count": 25,
      "outputs": [
        {
          "output_type": "execute_result",
          "data": {
            "text/plain": [
              "array([[0.94895444]])"
            ]
          },
          "metadata": {
            "tags": []
          },
          "execution_count": 25
        }
      ]
    },
    {
      "cell_type": "markdown",
      "metadata": {
        "id": "AGFM5j0eBfiz"
      },
      "source": [
        "## Resumo do Código"
      ]
    },
    {
      "cell_type": "code",
      "metadata": {
        "id": "t7MBfGskBept"
      },
      "source": [
        "import numpy as np  \n",
        "\n",
        "class LogisticRegression():\n",
        "  def __init__(self, alpha = 0.01, epoch = 1000):\n",
        "    self.alpha = alpha # taxa de aprendizado         \n",
        "    self.epoch = epoch # iterações de treino\n",
        "    self.pesos = []\n",
        "    self.custo = []\n",
        "\n",
        "  def __repr__(self):\n",
        "    return f\"Taxa Aprend: { self.alpha} - Inter: {self.epoch} - Pesos:  {self.pesos}\"\n",
        "\n",
        "  def cost(self):\n",
        "    return self.custo\n",
        "\n",
        "  def insert_ones(self, X):\n",
        "    ones = np.ones([X.shape[0],1])\n",
        "    return np.concatenate((ones,X), axis=1)\n",
        "\n",
        "  def sigmoid(self, z):\n",
        "    return 1 / ( 1 + np.exp(-z))\n",
        "\n",
        "  def binary_cross_entropy(self, w, X, y):    \n",
        "    m = len(X)\n",
        "    parte1 = np.multiply(-y, np.log(self.sigmoid(X @ w.T)))\n",
        "    parte2 = np.multiply((1 - y), np.log(1 - self.sigmoid(X @ w.T)))\n",
        "    somatorio = np.sum(parte1 - parte2)\n",
        "    return  somatorio/m\n",
        "\n",
        "  def gradient_descent(self, w, X, y):\n",
        "    cost = np.zeros(self.epoch)\n",
        "    for i in range(self.epoch):\n",
        "        w = w - (self.alpha/len(X)) * np.sum((self.sigmoid(X @ w.T) - y)*X, axis=0)\n",
        "        cost[i] = self.binary_cross_entropy(w, X, y)\n",
        "    return w, cost\n",
        "  \n",
        "  def fit(self, X, y):\n",
        "    n_features = len(X[0,:])\n",
        "    w = np.random.rand(1, n_features+1)\n",
        "    X = insert_ones(X)\n",
        "    w, cost = self.gradient_descent(w, X, y)\n",
        "    self.pesos = w\n",
        "    self.custo = cost\n",
        "  \n",
        "  def predict(self, X, threshold=0.5):\n",
        "    X = self.insert_ones(X)\n",
        "    c = self.sigmoid(X @ self.pesos.T)\n",
        "    p = c[0][0] >= threshold\n",
        "    return p, c[0][0]"
      ],
      "execution_count": 26,
      "outputs": []
    },
    {
      "cell_type": "markdown",
      "metadata": {
        "id": "laPiy9vOJ4Dn"
      },
      "source": [
        "### Exemplo usando a classe"
      ]
    },
    {
      "cell_type": "code",
      "metadata": {
        "id": "u3W6c3pOEEhe",
        "colab": {
          "base_uri": "https://localhost:8080/",
          "height": 419
        },
        "outputId": "faaf679c-20dc-4e09-dff7-d15cc7e70e67"
      },
      "source": [
        "# Inicializo a classe\n",
        "RegLog = LogisticRegression(alpha= 0.01, epoch = 1000)\n",
        "# Leitura do dataset\n",
        "df2 = pd.read_csv('titanic_data.csv', sep=',')\n",
        "df2 = df2.dropna()\n",
        "df2"
      ],
      "execution_count": 27,
      "outputs": [
        {
          "output_type": "execute_result",
          "data": {
            "text/html": [
              "<div>\n",
              "<style scoped>\n",
              "    .dataframe tbody tr th:only-of-type {\n",
              "        vertical-align: middle;\n",
              "    }\n",
              "\n",
              "    .dataframe tbody tr th {\n",
              "        vertical-align: top;\n",
              "    }\n",
              "\n",
              "    .dataframe thead th {\n",
              "        text-align: right;\n",
              "    }\n",
              "</style>\n",
              "<table border=\"1\" class=\"dataframe\">\n",
              "  <thead>\n",
              "    <tr style=\"text-align: right;\">\n",
              "      <th></th>\n",
              "      <th>Pclass</th>\n",
              "      <th>Sex</th>\n",
              "      <th>Age</th>\n",
              "      <th>Survived</th>\n",
              "    </tr>\n",
              "  </thead>\n",
              "  <tbody>\n",
              "    <tr>\n",
              "      <th>0</th>\n",
              "      <td>3</td>\n",
              "      <td>0</td>\n",
              "      <td>22.0</td>\n",
              "      <td>0</td>\n",
              "    </tr>\n",
              "    <tr>\n",
              "      <th>1</th>\n",
              "      <td>1</td>\n",
              "      <td>1</td>\n",
              "      <td>38.0</td>\n",
              "      <td>1</td>\n",
              "    </tr>\n",
              "    <tr>\n",
              "      <th>2</th>\n",
              "      <td>3</td>\n",
              "      <td>1</td>\n",
              "      <td>26.0</td>\n",
              "      <td>1</td>\n",
              "    </tr>\n",
              "    <tr>\n",
              "      <th>3</th>\n",
              "      <td>1</td>\n",
              "      <td>1</td>\n",
              "      <td>35.0</td>\n",
              "      <td>1</td>\n",
              "    </tr>\n",
              "    <tr>\n",
              "      <th>4</th>\n",
              "      <td>3</td>\n",
              "      <td>0</td>\n",
              "      <td>35.0</td>\n",
              "      <td>0</td>\n",
              "    </tr>\n",
              "    <tr>\n",
              "      <th>...</th>\n",
              "      <td>...</td>\n",
              "      <td>...</td>\n",
              "      <td>...</td>\n",
              "      <td>...</td>\n",
              "    </tr>\n",
              "    <tr>\n",
              "      <th>885</th>\n",
              "      <td>3</td>\n",
              "      <td>1</td>\n",
              "      <td>39.0</td>\n",
              "      <td>0</td>\n",
              "    </tr>\n",
              "    <tr>\n",
              "      <th>886</th>\n",
              "      <td>2</td>\n",
              "      <td>0</td>\n",
              "      <td>27.0</td>\n",
              "      <td>0</td>\n",
              "    </tr>\n",
              "    <tr>\n",
              "      <th>887</th>\n",
              "      <td>1</td>\n",
              "      <td>1</td>\n",
              "      <td>19.0</td>\n",
              "      <td>1</td>\n",
              "    </tr>\n",
              "    <tr>\n",
              "      <th>889</th>\n",
              "      <td>1</td>\n",
              "      <td>0</td>\n",
              "      <td>26.0</td>\n",
              "      <td>1</td>\n",
              "    </tr>\n",
              "    <tr>\n",
              "      <th>890</th>\n",
              "      <td>3</td>\n",
              "      <td>0</td>\n",
              "      <td>32.0</td>\n",
              "      <td>0</td>\n",
              "    </tr>\n",
              "  </tbody>\n",
              "</table>\n",
              "<p>714 rows × 4 columns</p>\n",
              "</div>"
            ],
            "text/plain": [
              "     Pclass  Sex   Age  Survived\n",
              "0         3    0  22.0         0\n",
              "1         1    1  38.0         1\n",
              "2         3    1  26.0         1\n",
              "3         1    1  35.0         1\n",
              "4         3    0  35.0         0\n",
              "..      ...  ...   ...       ...\n",
              "885       3    1  39.0         0\n",
              "886       2    0  27.0         0\n",
              "887       1    1  19.0         1\n",
              "889       1    0  26.0         1\n",
              "890       3    0  32.0         0\n",
              "\n",
              "[714 rows x 4 columns]"
            ]
          },
          "metadata": {
            "tags": []
          },
          "execution_count": 27
        }
      ]
    },
    {
      "cell_type": "code",
      "metadata": {
        "colab": {
          "base_uri": "https://localhost:8080/",
          "height": 297
        },
        "id": "MGZOF7CFIn4a",
        "outputId": "a513537d-9c0e-4f5f-fc5c-cf00fd6eccb1"
      },
      "source": [
        "df2[[\"Pclass\", \"Sex\", \"Age\", \"Survived\"]].describe()"
      ],
      "execution_count": 28,
      "outputs": [
        {
          "output_type": "execute_result",
          "data": {
            "text/html": [
              "<div>\n",
              "<style scoped>\n",
              "    .dataframe tbody tr th:only-of-type {\n",
              "        vertical-align: middle;\n",
              "    }\n",
              "\n",
              "    .dataframe tbody tr th {\n",
              "        vertical-align: top;\n",
              "    }\n",
              "\n",
              "    .dataframe thead th {\n",
              "        text-align: right;\n",
              "    }\n",
              "</style>\n",
              "<table border=\"1\" class=\"dataframe\">\n",
              "  <thead>\n",
              "    <tr style=\"text-align: right;\">\n",
              "      <th></th>\n",
              "      <th>Pclass</th>\n",
              "      <th>Sex</th>\n",
              "      <th>Age</th>\n",
              "      <th>Survived</th>\n",
              "    </tr>\n",
              "  </thead>\n",
              "  <tbody>\n",
              "    <tr>\n",
              "      <th>count</th>\n",
              "      <td>714.000000</td>\n",
              "      <td>714.000000</td>\n",
              "      <td>714.000000</td>\n",
              "      <td>714.000000</td>\n",
              "    </tr>\n",
              "    <tr>\n",
              "      <th>mean</th>\n",
              "      <td>2.236695</td>\n",
              "      <td>0.365546</td>\n",
              "      <td>29.699118</td>\n",
              "      <td>0.406162</td>\n",
              "    </tr>\n",
              "    <tr>\n",
              "      <th>std</th>\n",
              "      <td>0.838250</td>\n",
              "      <td>0.481921</td>\n",
              "      <td>14.526497</td>\n",
              "      <td>0.491460</td>\n",
              "    </tr>\n",
              "    <tr>\n",
              "      <th>min</th>\n",
              "      <td>1.000000</td>\n",
              "      <td>0.000000</td>\n",
              "      <td>0.420000</td>\n",
              "      <td>0.000000</td>\n",
              "    </tr>\n",
              "    <tr>\n",
              "      <th>25%</th>\n",
              "      <td>1.000000</td>\n",
              "      <td>0.000000</td>\n",
              "      <td>20.125000</td>\n",
              "      <td>0.000000</td>\n",
              "    </tr>\n",
              "    <tr>\n",
              "      <th>50%</th>\n",
              "      <td>2.000000</td>\n",
              "      <td>0.000000</td>\n",
              "      <td>28.000000</td>\n",
              "      <td>0.000000</td>\n",
              "    </tr>\n",
              "    <tr>\n",
              "      <th>75%</th>\n",
              "      <td>3.000000</td>\n",
              "      <td>1.000000</td>\n",
              "      <td>38.000000</td>\n",
              "      <td>1.000000</td>\n",
              "    </tr>\n",
              "    <tr>\n",
              "      <th>max</th>\n",
              "      <td>3.000000</td>\n",
              "      <td>1.000000</td>\n",
              "      <td>80.000000</td>\n",
              "      <td>1.000000</td>\n",
              "    </tr>\n",
              "  </tbody>\n",
              "</table>\n",
              "</div>"
            ],
            "text/plain": [
              "           Pclass         Sex         Age    Survived\n",
              "count  714.000000  714.000000  714.000000  714.000000\n",
              "mean     2.236695    0.365546   29.699118    0.406162\n",
              "std      0.838250    0.481921   14.526497    0.491460\n",
              "min      1.000000    0.000000    0.420000    0.000000\n",
              "25%      1.000000    0.000000   20.125000    0.000000\n",
              "50%      2.000000    0.000000   28.000000    0.000000\n",
              "75%      3.000000    1.000000   38.000000    1.000000\n",
              "max      3.000000    1.000000   80.000000    1.000000"
            ]
          },
          "metadata": {
            "tags": []
          },
          "execution_count": 28
        }
      ]
    },
    {
      "cell_type": "code",
      "metadata": {
        "id": "lBKbvwXK9u-1"
      },
      "source": [
        "n_features = len(df2.columns)-1 \n",
        "X = np.array(df2.drop('Survived',1))\n",
        "y = df2.iloc[:,n_features:n_features+1].values  \n",
        "\n",
        "# AQUI PODE SER REALIZADA UMA NORMALIZAÇÃO SE NECESSÁRIO\n",
        "#from sklearn.preprocessing import StandardScaler\n",
        "#scaler = StandardScaler()\n",
        "#scaler.fit(X)\n",
        "#X = scaler.transform(X)\n",
        "\n",
        "mean = X.mean(axis=0) # Média para normalizar os testes se necessário\n",
        "std = X.std(axis=0) # Desvio Padrão para normalizar os testes se necessário"
      ],
      "execution_count": 29,
      "outputs": []
    },
    {
      "cell_type": "code",
      "metadata": {
        "colab": {
          "base_uri": "https://localhost:8080/"
        },
        "id": "1JY6j2Ga0-TK",
        "outputId": "7fe1f702-569f-4d69-f192-acd5e55445a9"
      },
      "source": [
        "# Treinamento do modelo\n",
        "RegLog.fit(X,y)\n",
        "print(RegLog)"
      ],
      "execution_count": 34,
      "outputs": [
        {
          "output_type": "stream",
          "text": [
            "Taxa Aprend: 0.01 - Inter: 1000 - Pesos:  [[ 0.29451856 -0.54928096  1.63720884 -0.03421786]]\n"
          ],
          "name": "stdout"
        }
      ]
    },
    {
      "cell_type": "code",
      "metadata": {
        "colab": {
          "base_uri": "https://localhost:8080/",
          "height": 312
        },
        "id": "M6lwTFsoJbgF",
        "outputId": "eef0ad6e-7a07-4ae6-b665-5a53da155d77"
      },
      "source": [
        "fig, ax = plt.subplots()  \n",
        "ax.plot(np.arange(1000), RegLog.cost(), 'r')  \n",
        "ax.set_xlabel('Iterações')  \n",
        "ax.set_ylabel('Custo')  \n",
        "ax.set_title('Erro vs. Iterações')"
      ],
      "execution_count": 35,
      "outputs": [
        {
          "output_type": "execute_result",
          "data": {
            "text/plain": [
              "Text(0.5, 1.0, 'Erro vs. Iterações')"
            ]
          },
          "metadata": {
            "tags": []
          },
          "execution_count": 35
        },
        {
          "output_type": "display_data",
          "data": {
            "image/png": "[encoded data removed]",
            "text/plain": [
              "<Figure size 432x288 with 1 Axes>"
            ]
          },
          "metadata": {
            "tags": [],
            "needs_background": "light"
          }
        }
      ]
    },
    {
      "cell_type": "code",
      "metadata": {
        "colab": {
          "base_uri": "https://localhost:8080/"
        },
        "id": "OF4Bn6mGJcwx",
        "outputId": "714a3c96-cef3-4027-9cda-bf7c2cb6a112"
      },
      "source": [
        "# Definindo testes\n",
        "rose = np.array([[1, 1, 17]])\n",
        "jack = np.array([[3, 0, 20]])\n",
        "eu = np.array([[2, 0, 22]])\n",
        "\n",
        "# Normalização do teste se necessário\n",
        "#t1 = (t1 - mean)/std \n",
        "#t2 = (t2 - mean)/std \n",
        "\n",
        "# Realiza a predição de acordo o limiar indicado\n",
        "p1 = RegLog.predict(rose, 0.5)\n",
        "print(\"Prob1: \", p1)\n",
        "p2 = RegLog.predict(jack, 0.5)\n",
        "print(\"Prob2: \", p2)\n",
        "p3 = RegLog.predict(eu, 0.5)\n",
        "print(\"Prob3: \", p3)"
      ],
      "execution_count": 36,
      "outputs": [
        {
          "output_type": "stream",
          "text": [
            "Prob1:  (True, 0.6901333369756718)\n",
            "Prob2:  (False, 0.1153030141612923)\n",
            "Prob3:  (False, 0.1741010726812587)\n"
          ],
          "name": "stdout"
        }
      ]
    }
  ]
}